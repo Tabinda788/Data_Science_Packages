{
 "cells": [
  {
   "cell_type": "code",
   "execution_count": 1,
   "id": "60d20724",
   "metadata": {},
   "outputs": [],
   "source": [
    "import numpy as np"
   ]
  },
  {
   "cell_type": "code",
   "execution_count": 2,
   "id": "c57076ca",
   "metadata": {},
   "outputs": [],
   "source": [
    "revenue = np.array([[180,200,220],[24,36,40],[12,18,20]])\n",
    "expenses = np.array([[80,90,100],[10,16,20],[8,10,10]])"
   ]
  },
  {
   "cell_type": "code",
   "execution_count": 3,
   "id": "931b654d",
   "metadata": {},
   "outputs": [],
   "source": [
    "profit = revenue - expenses"
   ]
  },
  {
   "cell_type": "code",
   "execution_count": 9,
   "id": "a54b8a6c",
   "metadata": {},
   "outputs": [],
   "source": [
    "price_per_unit = np.array([1000,400,1200])\n",
    "units = np.array([[30,40,50],[5,10,15],[2,5,7]])"
   ]
  },
  {
   "cell_type": "code",
   "execution_count": 5,
   "id": "803d693e",
   "metadata": {},
   "outputs": [
    {
     "data": {
      "text/plain": [
       "array([[30000, 16000, 60000],\n",
       "       [ 5000,  4000, 18000],\n",
       "       [ 2000,  2000,  8400]])"
      ]
     },
     "execution_count": 5,
     "metadata": {},
     "output_type": "execute_result"
    }
   ],
   "source": [
    "#Broadcasting in numpy ---> demension not same it behaves as illustrated below\n",
    "price_per_unit*units"
   ]
  },
  {
   "cell_type": "code",
   "execution_count": 7,
   "id": "acfcda63",
   "metadata": {},
   "outputs": [],
   "source": [
    "price_per_unit = np.array([[1000,400,1200],[1000,400,1200],[1000,400,1200]])\n",
    "units = np.array([[30,40,50],[5,10,15],[2,5,7]])"
   ]
  },
  {
   "cell_type": "code",
   "execution_count": 8,
   "id": "155905a0",
   "metadata": {},
   "outputs": [
    {
     "data": {
      "text/plain": [
       "array([[30000, 16000, 60000],\n",
       "       [ 5000,  4000, 18000],\n",
       "       [ 2000,  2000,  8400]])"
      ]
     },
     "execution_count": 8,
     "metadata": {},
     "output_type": "execute_result"
    }
   ],
   "source": [
    "price_per_unit*units"
   ]
  },
  {
   "cell_type": "code",
   "execution_count": 10,
   "id": "9ff0ede8",
   "metadata": {},
   "outputs": [],
   "source": [
    "price_per_unit = np.array([1000,400,1200])\n",
    "units = np.array([[30,40,50],[5,10,15],[2,5,7]])"
   ]
  },
  {
   "cell_type": "code",
   "execution_count": 12,
   "id": "13dade34",
   "metadata": {},
   "outputs": [
    {
     "data": {
      "text/plain": [
       "array([34400, 50000, 64400])"
      ]
     },
     "execution_count": 12,
     "metadata": {},
     "output_type": "execute_result"
    }
   ],
   "source": [
    "np.dot(price_per_unit,units)"
   ]
  },
  {
   "cell_type": "code",
   "execution_count": 13,
   "id": "9115424d",
   "metadata": {},
   "outputs": [
    {
     "data": {
      "text/plain": [
       "array([[15000, 16500, 18750],\n",
       "       [ 5100,  5925,  7875],\n",
       "       [ 8250, 10500, 13500],\n",
       "       [ 6000,  6375,  6750]])"
      ]
     },
     "execution_count": 13,
     "metadata": {},
     "output_type": "execute_result"
    }
   ],
   "source": [
    "revenues_usd = np.array([[200,220,250],[68,79,105],[110,140,180],[80,85,90]])\n",
    "revenues_inr = 75*revenues_usd\n",
    "revenues_inr"
   ]
  },
  {
   "cell_type": "code",
   "execution_count": null,
   "id": "8a352aca",
   "metadata": {},
   "outputs": [],
   "source": []
  }
 ],
 "metadata": {
  "kernelspec": {
   "display_name": "Python 3 (ipykernel)",
   "language": "python",
   "name": "python3"
  },
  "language_info": {
   "codemirror_mode": {
    "name": "ipython",
    "version": 3
   },
   "file_extension": ".py",
   "mimetype": "text/x-python",
   "name": "python",
   "nbconvert_exporter": "python",
   "pygments_lexer": "ipython3",
   "version": "3.8.8"
  }
 },
 "nbformat": 4,
 "nbformat_minor": 5
}
