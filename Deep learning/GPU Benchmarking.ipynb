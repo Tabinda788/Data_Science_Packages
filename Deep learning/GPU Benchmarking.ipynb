{
 "cells": [
  {
   "cell_type": "code",
   "execution_count": 16,
   "id": "13f6af2e",
   "metadata": {},
   "outputs": [],
   "source": [
    "import pandas as pd\n",
    "import numpy as np\n",
    "import tensorflow as tf\n",
    "from tensorflow import keras\n",
    "import matplotlib.pyplot as plt"
   ]
  },
  {
   "cell_type": "code",
   "execution_count": 6,
   "id": "bb034125",
   "metadata": {},
   "outputs": [
    {
     "data": {
      "text/plain": [
       "[PhysicalDevice(name='/physical_device:CPU:0', device_type='CPU')]"
      ]
     },
     "execution_count": 6,
     "metadata": {},
     "output_type": "execute_result"
    }
   ],
   "source": [
    "tf.config.experimental.list_physical_devices()"
   ]
  },
  {
   "cell_type": "code",
   "execution_count": 7,
   "id": "0be7c62e",
   "metadata": {},
   "outputs": [
    {
     "data": {
      "text/plain": [
       "True"
      ]
     },
     "execution_count": 7,
     "metadata": {},
     "output_type": "execute_result"
    }
   ],
   "source": [
    "tf.test.is_built_with_cuda()"
   ]
  },
  {
   "cell_type": "code",
   "execution_count": 8,
   "id": "6a781706",
   "metadata": {},
   "outputs": [
    {
     "name": "stdout",
     "output_type": "stream",
     "text": [
      "Downloading data from https://www.cs.toronto.edu/~kriz/cifar-10-python.tar.gz\n",
      "170500096/170498071 [==============================] - 63s 0us/step\n",
      "170508288/170498071 [==============================] - 63s 0us/step\n"
     ]
    }
   ],
   "source": [
    "(X_train,y_train),(X_test,y_test)=tf.keras.datasets.cifar10.load_data()"
   ]
  },
  {
   "cell_type": "code",
   "execution_count": 9,
   "id": "bd87513a",
   "metadata": {},
   "outputs": [
    {
     "data": {
      "text/plain": [
       "(50000, 32, 32, 3)"
      ]
     },
     "execution_count": 9,
     "metadata": {},
     "output_type": "execute_result"
    }
   ],
   "source": [
    "X_train.shape"
   ]
  },
  {
   "cell_type": "code",
   "execution_count": 11,
   "id": "e7ec59f9",
   "metadata": {},
   "outputs": [
    {
     "data": {
      "text/plain": [
       "array([[ 59,  62,  63],\n",
       "       [ 43,  46,  45],\n",
       "       [ 50,  48,  43],\n",
       "       [ 68,  54,  42],\n",
       "       [ 98,  73,  52],\n",
       "       [119,  91,  63],\n",
       "       [139, 107,  75],\n",
       "       [145, 110,  80],\n",
       "       [149, 117,  89],\n",
       "       [149, 120,  93],\n",
       "       [131, 103,  77],\n",
       "       [125,  99,  76],\n",
       "       [142, 115,  91],\n",
       "       [144, 112,  86],\n",
       "       [137, 105,  79],\n",
       "       [129,  97,  71],\n",
       "       [137, 106,  79],\n",
       "       [134, 106,  76],\n",
       "       [124,  97,  64],\n",
       "       [139, 113,  78],\n",
       "       [139, 112,  75],\n",
       "       [133, 105,  69],\n",
       "       [136, 105,  74],\n",
       "       [139, 108,  77],\n",
       "       [152, 120,  89],\n",
       "       [163, 131, 100],\n",
       "       [168, 136, 108],\n",
       "       [159, 129, 102],\n",
       "       [158, 130, 104],\n",
       "       [158, 132, 108],\n",
       "       [152, 125, 102],\n",
       "       [148, 124, 103]], dtype=uint8)"
      ]
     },
     "execution_count": 11,
     "metadata": {},
     "output_type": "execute_result"
    }
   ],
   "source": [
    "X_train[0][0]"
   ]
  },
  {
   "cell_type": "code",
   "execution_count": 12,
   "id": "38406e77",
   "metadata": {},
   "outputs": [
    {
     "data": {
      "text/plain": [
       "(50000, 1)"
      ]
     },
     "execution_count": 12,
     "metadata": {},
     "output_type": "execute_result"
    }
   ],
   "source": [
    "y_train.shape"
   ]
  },
  {
   "cell_type": "code",
   "execution_count": 13,
   "id": "18e22944",
   "metadata": {},
   "outputs": [
    {
     "data": {
      "text/plain": [
       "array([[6],\n",
       "       [9],\n",
       "       [9],\n",
       "       [4],\n",
       "       [1]], dtype=uint8)"
      ]
     },
     "execution_count": 13,
     "metadata": {},
     "output_type": "execute_result"
    }
   ],
   "source": [
    "y_train[0:5]"
   ]
  },
  {
   "cell_type": "code",
   "execution_count": 17,
   "id": "6d95bdb6",
   "metadata": {},
   "outputs": [],
   "source": [
    "def plot_sample(index):\n",
    "    plt.figure(figsize = (10,1))\n",
    "    plt.imshow(X_train[index])"
   ]
  },
  {
   "cell_type": "code",
   "execution_count": 18,
   "id": "54e55c27",
   "metadata": {},
   "outputs": [
    {
     "data": {
      "image/png": "[encoded data removed]",
      "text/plain": [
       "<Figure size 720x72 with 1 Axes>"
      ]
     },
     "metadata": {
      "needs_background": "light"
     },
     "output_type": "display_data"
    }
   ],
   "source": [
    "plot_sample(0)"
   ]
  },
  {
   "cell_type": "code",
   "execution_count": 19,
   "id": "feac5cbc",
   "metadata": {},
   "outputs": [
    {
     "data": {
      "image/png": "[encoded data removed]",
      "text/plain": [
       "<Figure size 720x72 with 1 Axes>"
      ]
     },
     "metadata": {
      "needs_background": "light"
     },
     "output_type": "display_data"
    }
   ],
   "source": [
    "plot_sample(2)"
   ]
  },
  {
   "cell_type": "code",
   "execution_count": 20,
   "id": "f95571ef",
   "metadata": {},
   "outputs": [],
   "source": [
    "classes = [\"airplane\",\"automobile\",\"bird\",\"cat\",\"deer\",\"dog\",\"frog\",\"horse\",\"ship\",\"truck\"]\n"
   ]
  },
  {
   "cell_type": "code",
   "execution_count": 21,
   "id": "955cf1d3",
   "metadata": {},
   "outputs": [
    {
     "data": {
      "image/png": "[encoded data removed]",
      "text/plain": [
       "<Figure size 720x72 with 1 Axes>"
      ]
     },
     "metadata": {
      "needs_background": "light"
     },
     "output_type": "display_data"
    }
   ],
   "source": [
    "plot_sample(3)"
   ]
  },
  {
   "cell_type": "code",
   "execution_count": 22,
   "id": "6a0d9a9e",
   "metadata": {},
   "outputs": [
    {
     "data": {
      "text/plain": [
       "array([4], dtype=uint8)"
      ]
     },
     "execution_count": 22,
     "metadata": {},
     "output_type": "execute_result"
    }
   ],
   "source": [
    "y_train[3]"
   ]
  },
  {
   "cell_type": "code",
   "execution_count": 23,
   "id": "e1d815ae",
   "metadata": {},
   "outputs": [
    {
     "data": {
      "text/plain": [
       "'deer'"
      ]
     },
     "execution_count": 23,
     "metadata": {},
     "output_type": "execute_result"
    }
   ],
   "source": [
    "classes[y_train[3][0]]"
   ]
  },
  {
   "cell_type": "code",
   "execution_count": 24,
   "id": "1508a9bc",
   "metadata": {},
   "outputs": [],
   "source": [
    "X_train_scaled = X_train / 255\n",
    "X_test_scaled = X_test / 255"
   ]
  },
  {
   "cell_type": "code",
   "execution_count": 25,
   "id": "4f330c8f",
   "metadata": {},
   "outputs": [
    {
     "data": {
      "text/plain": [
       "array([[6],\n",
       "       [9],\n",
       "       [9],\n",
       "       [4],\n",
       "       [1]], dtype=uint8)"
      ]
     },
     "execution_count": 25,
     "metadata": {},
     "output_type": "execute_result"
    }
   ],
   "source": [
    "y_train[:5]"
   ]
  },
  {
   "cell_type": "code",
   "execution_count": 26,
   "id": "5bc90988",
   "metadata": {},
   "outputs": [],
   "source": [
    "y_train_categorical = keras.utils.to_categorical(\n",
    "    y_train, num_classes=10, dtype='float32'\n",
    ")\n",
    "y_test_categorical = keras.utils.to_categorical(\n",
    "    y_test, num_classes=10, dtype='float32'\n",
    ")\n"
   ]
  },
  {
   "cell_type": "code",
   "execution_count": 27,
   "id": "b9904415",
   "metadata": {},
   "outputs": [
    {
     "data": {
      "text/plain": [
       "array([[0., 0., 0., 0., 0., 0., 1., 0., 0., 0.],\n",
       "       [0., 0., 0., 0., 0., 0., 0., 0., 0., 1.],\n",
       "       [0., 0., 0., 0., 0., 0., 0., 0., 0., 1.],\n",
       "       [0., 0., 0., 0., 1., 0., 0., 0., 0., 0.],\n",
       "       [0., 1., 0., 0., 0., 0., 0., 0., 0., 0.]], dtype=float32)"
      ]
     },
     "execution_count": 27,
     "metadata": {},
     "output_type": "execute_result"
    }
   ],
   "source": [
    "y_train_categorical[:5]"
   ]
  },
  {
   "cell_type": "code",
   "execution_count": 28,
   "id": "a59a0e24",
   "metadata": {},
   "outputs": [
    {
     "data": {
      "text/plain": [
       "(50000, 32, 32, 3)"
      ]
     },
     "execution_count": 28,
     "metadata": {},
     "output_type": "execute_result"
    }
   ],
   "source": [
    "# 50k images each image of size 32*32*3 so flatten the image-->convert matrix to vector\n",
    "X_train.shape"
   ]
  },
  {
   "cell_type": "code",
   "execution_count": 30,
   "id": "c6eca2b1",
   "metadata": {},
   "outputs": [
    {
     "name": "stdout",
     "output_type": "stream",
     "text": [
      "Epoch 1/50\n",
      "1563/1563 [==============================] - 107s 66ms/step - loss: 1.8123 - accuracy: 0.3539\n",
      "Epoch 2/50\n",
      "1563/1563 [==============================] - 101s 65ms/step - loss: 1.6234 - accuracy: 0.4297\n",
      "Epoch 3/50\n",
      "1563/1563 [==============================] - 102s 65ms/step - loss: 1.5432 - accuracy: 0.4557\n",
      "Epoch 4/50\n",
      "1563/1563 [==============================] - 100s 64ms/step - loss: 1.4815 - accuracy: 0.4774\n",
      "Epoch 5/50\n",
      "1563/1563 [==============================] - 100s 64ms/step - loss: 1.4299 - accuracy: 0.4963\n",
      "Epoch 6/50\n",
      "1563/1563 [==============================] - 99s 63ms/step - loss: 1.3900 - accuracy: 0.5100\n",
      "Epoch 7/50\n",
      "1563/1563 [==============================] - 112s 71ms/step - loss: 1.3510 - accuracy: 0.5241\n",
      "Epoch 8/50\n",
      "1563/1563 [==============================] - 128s 82ms/step - loss: 1.3156 - accuracy: 0.5367\n",
      "Epoch 9/50\n",
      "1563/1563 [==============================] - 106s 67ms/step - loss: 1.2824 - accuracy: 0.5514\n",
      "Epoch 10/50\n",
      "1563/1563 [==============================] - 108s 69ms/step - loss: 1.2519 - accuracy: 0.5617\n",
      "Epoch 11/50\n",
      "1563/1563 [==============================] - 128s 82ms/step - loss: 1.2242 - accuracy: 0.5718\n",
      "Epoch 12/50\n",
      "1563/1563 [==============================] - 110s 70ms/step - loss: 1.1927 - accuracy: 0.5804\n",
      "Epoch 13/50\n",
      "1563/1563 [==============================] - 115s 74ms/step - loss: 1.1656 - accuracy: 0.5925\n",
      "Epoch 14/50\n",
      "1563/1563 [==============================] - 109s 70ms/step - loss: 1.1406 - accuracy: 0.6020\n",
      "Epoch 15/50\n",
      "1563/1563 [==============================] - 111s 71ms/step - loss: 1.1120 - accuracy: 0.6123\n",
      "Epoch 16/50\n",
      "1563/1563 [==============================] - 98s 63ms/step - loss: 1.0848 - accuracy: 0.6218\n",
      "Epoch 17/50\n",
      "1563/1563 [==============================] - 98s 63ms/step - loss: 1.0591 - accuracy: 0.6311\n",
      "Epoch 18/50\n",
      "1563/1563 [==============================] - 99s 63ms/step - loss: 1.0333 - accuracy: 0.6404\n",
      "Epoch 19/50\n",
      "1563/1563 [==============================] - 100s 64ms/step - loss: 1.0095 - accuracy: 0.6479\n",
      "Epoch 20/50\n",
      "1563/1563 [==============================] - 98s 63ms/step - loss: 0.9814 - accuracy: 0.6597\n",
      "Epoch 21/50\n",
      "1563/1563 [==============================] - 99s 63ms/step - loss: 0.9575 - accuracy: 0.6681\n",
      "Epoch 22/50\n",
      "1563/1563 [==============================] - 99s 63ms/step - loss: 0.9332 - accuracy: 0.6767\n",
      "Epoch 23/50\n",
      "1563/1563 [==============================] - 99s 63ms/step - loss: 0.9056 - accuracy: 0.6863\n",
      "Epoch 24/50\n",
      "1563/1563 [==============================] - 99s 63ms/step - loss: 0.8818 - accuracy: 0.6955\n",
      "Epoch 25/50\n",
      "1563/1563 [==============================] - 101s 64ms/step - loss: 0.8571 - accuracy: 0.7052\n",
      "Epoch 26/50\n",
      "1563/1563 [==============================] - 100s 64ms/step - loss: 0.8289 - accuracy: 0.7155\n",
      "Epoch 27/50\n",
      "1563/1563 [==============================] - 94s 60ms/step - loss: 0.8041 - accuracy: 0.7247\n",
      "Epoch 28/50\n",
      "1563/1563 [==============================] - 90s 58ms/step - loss: 0.7826 - accuracy: 0.7302\n",
      "Epoch 29/50\n",
      "1563/1563 [==============================] - 90s 58ms/step - loss: 0.7556 - accuracy: 0.7410\n",
      "Epoch 30/50\n",
      "1563/1563 [==============================] - 91s 58ms/step - loss: 0.7304 - accuracy: 0.7511\n",
      "Epoch 31/50\n",
      "1563/1563 [==============================] - 91s 58ms/step - loss: 0.7090 - accuracy: 0.7581\n",
      "Epoch 32/50\n",
      "1563/1563 [==============================] - 91s 58ms/step - loss: 0.6791 - accuracy: 0.7695\n",
      "Epoch 33/50\n",
      "1563/1563 [==============================] - 93s 59ms/step - loss: 0.6552 - accuracy: 0.7797\n",
      "Epoch 34/50\n",
      "1563/1563 [==============================] - 92s 59ms/step - loss: 0.6330 - accuracy: 0.7859\n",
      "Epoch 35/50\n",
      "1563/1563 [==============================] - 93s 59ms/step - loss: 0.6043 - accuracy: 0.7962\n",
      "Epoch 36/50\n",
      "1563/1563 [==============================] - 93s 59ms/step - loss: 0.5814 - accuracy: 0.8052\n",
      "Epoch 37/50\n",
      "1563/1563 [==============================] - 93s 60ms/step - loss: 0.5575 - accuracy: 0.8159\n",
      "Epoch 38/50\n",
      "1563/1563 [==============================] - 92s 59ms/step - loss: 0.5361 - accuracy: 0.8234\n",
      "Epoch 39/50\n",
      "1563/1563 [==============================] - 94s 60ms/step - loss: 0.5154 - accuracy: 0.8296\n",
      "Epoch 40/50\n",
      "1563/1563 [==============================] - 92s 59ms/step - loss: 0.4929 - accuracy: 0.8374\n",
      "Epoch 41/50\n",
      "1563/1563 [==============================] - 93s 59ms/step - loss: 0.4716 - accuracy: 0.8462\n",
      "Epoch 42/50\n",
      "1563/1563 [==============================] - 91s 58ms/step - loss: 0.4486 - accuracy: 0.8556\n",
      "Epoch 43/50\n",
      "1563/1563 [==============================] - 93s 59ms/step - loss: 0.4272 - accuracy: 0.8637\n",
      "Epoch 44/50\n",
      "1563/1563 [==============================] - 90s 58ms/step - loss: 0.4079 - accuracy: 0.8686\n",
      "Epoch 45/50\n",
      "1563/1563 [==============================] - 92s 59ms/step - loss: 0.3861 - accuracy: 0.8788\n",
      "Epoch 46/50\n",
      "1563/1563 [==============================] - 94s 60ms/step - loss: 0.3702 - accuracy: 0.8840\n",
      "Epoch 47/50\n",
      "1563/1563 [==============================] - 93s 59ms/step - loss: 0.3474 - accuracy: 0.8942\n",
      "Epoch 48/50\n",
      "1563/1563 [==============================] - 98s 63ms/step - loss: 0.3353 - accuracy: 0.8954\n",
      "Epoch 49/50\n",
      "1563/1563 [==============================] - 97s 62ms/step - loss: 0.3140 - accuracy: 0.9041\n",
      "Epoch 50/50\n",
      "1563/1563 [==============================] - 93s 59ms/step - loss: 0.2969 - accuracy: 0.9123\n"
     ]
    },
    {
     "data": {
      "text/plain": [
       "<keras.callbacks.History at 0x7fc43afe31f0>"
      ]
     },
     "execution_count": 30,
     "metadata": {},
     "output_type": "execute_result"
    }
   ],
   "source": [
    "model = keras.Sequential([\n",
    "        keras.layers.Flatten(input_shape=(32,32,3)),\n",
    "        keras.layers.Dense(3000, activation='relu'),\n",
    "        keras.layers.Dense(1000, activation='relu'),\n",
    "        keras.layers.Dense(10, activation='sigmoid')    \n",
    "    ])\n",
    "\n",
    "model.compile(optimizer='SGD',\n",
    "              loss='categorical_crossentropy',\n",
    "              metrics=['accuracy'])\n",
    "\n",
    "model.fit(X_train_scaled, y_train_categorical, epochs=50)"
   ]
  },
  {
   "cell_type": "code",
   "execution_count": 31,
   "id": "0153b5fc",
   "metadata": {},
   "outputs": [
    {
     "data": {
      "text/plain": [
       "3"
      ]
     },
     "execution_count": 31,
     "metadata": {},
     "output_type": "execute_result"
    }
   ],
   "source": [
    "np.argmax(model.predict(X_test_scaled)[0])"
   ]
  },
  {
   "cell_type": "code",
   "execution_count": 32,
   "id": "70404d89",
   "metadata": {},
   "outputs": [
    {
     "data": {
      "text/plain": [
       "array([3], dtype=uint8)"
      ]
     },
     "execution_count": 32,
     "metadata": {},
     "output_type": "execute_result"
    }
   ],
   "source": [
    "y_test[0]"
   ]
  },
  {
   "cell_type": "code",
   "execution_count": 33,
   "id": "260726cd",
   "metadata": {},
   "outputs": [],
   "source": [
    "def get_model():\n",
    "    model = keras.Sequential([\n",
    "            keras.layers.Flatten(input_shape=(32,32,3)),\n",
    "            keras.layers.Dense(3000, activation='relu'),\n",
    "            keras.layers.Dense(1000, activation='relu'),\n",
    "            keras.layers.Dense(10, activation='sigmoid')    \n",
    "        ])\n",
    "\n",
    "    model.compile(optimizer='SGD',\n",
    "                  loss='categorical_crossentropy',\n",
    "                  metrics=['accuracy'])\n",
    "    return model\n"
   ]
  },
  {
   "cell_type": "code",
   "execution_count": 34,
   "id": "d42a6487",
   "metadata": {},
   "outputs": [
    {
     "name": "stderr",
     "output_type": "stream",
     "text": [
      "UsageError: Line magic function `%%timeit` not found.\n"
     ]
    }
   ],
   "source": [
    "# Measure training time on a CPU\n",
    "%%timeit -n1 -r1 \n",
    "with tf.device('/CPU:0'):\n",
    "    cpu_model = get_model()\n",
    "    cpu_model.fit(X_train_scaled, y_train_categorical, epochs=1)\n"
   ]
  },
  {
   "cell_type": "code",
   "execution_count": 35,
   "id": "794bc112",
   "metadata": {},
   "outputs": [
    {
     "name": "stderr",
     "output_type": "stream",
     "text": [
      "UsageError: Line magic function `%%timeit` not found.\n"
     ]
    }
   ],
   "source": [
    "#Lets measure training time on a GPU\n",
    "%%timeit -n1 -r1 \n",
    "with tf.device('/GPU:0'):\n",
    "    cpu_model = get_model()\n",
    "    cpu_model.fit(X_train_scaled, y_train_categorical, epochs=1)\n"
   ]
  },
  {
   "cell_type": "code",
   "execution_count": 36,
   "id": "6edc7785",
   "metadata": {},
   "outputs": [
    {
     "name": "stderr",
     "output_type": "stream",
     "text": [
      "UsageError: Line magic function `%%timeit` not found.\n"
     ]
    }
   ],
   "source": [
    "#Lets run same test for 10 epocs\n",
    "%%timeit -n1 -r1 \n",
    "with tf.device('/CPU:0'):\n",
    "    cpu_model = get_model()\n",
    "    cpu_model.fit(X_train_scaled, y_train_categorical, epochs=10)"
   ]
  },
  {
   "cell_type": "code",
   "execution_count": 37,
   "id": "76d63cdd",
   "metadata": {},
   "outputs": [
    {
     "name": "stdout",
     "output_type": "stream",
     "text": [
      "Epoch 1/10\n",
      "1563/1563 [==============================] - 96s 60ms/step - loss: 1.8172 - accuracy: 0.3544\n",
      "Epoch 2/10\n",
      "1563/1563 [==============================] - 91s 58ms/step - loss: 1.6276 - accuracy: 0.4252\n",
      "Epoch 3/10\n",
      "1563/1563 [==============================] - 89s 57ms/step - loss: 1.5461 - accuracy: 0.4556\n",
      "Epoch 4/10\n",
      "1563/1563 [==============================] - 95s 61ms/step - loss: 1.4855 - accuracy: 0.4763\n",
      "Epoch 5/10\n",
      "1563/1563 [==============================] - 96s 61ms/step - loss: 1.4354 - accuracy: 0.4959\n",
      "Epoch 6/10\n",
      "1563/1563 [==============================] - 98s 63ms/step - loss: 1.3916 - accuracy: 0.5086\n",
      "Epoch 7/10\n",
      "1563/1563 [==============================] - 93s 60ms/step - loss: 1.3519 - accuracy: 0.5241\n",
      "Epoch 8/10\n",
      "1563/1563 [==============================] - 98s 63ms/step - loss: 1.3213 - accuracy: 0.5363\n",
      "Epoch 9/10\n",
      "1563/1563 [==============================] - 98s 62ms/step - loss: 1.2863 - accuracy: 0.5489\n",
      "Epoch 10/10\n",
      "1563/1563 [==============================] - 104s 67ms/step - loss: 1.2553 - accuracy: 0.5595\n",
      "16min 26s ± 0 ns per loop (mean ± std. dev. of 1 run, 1 loop each)\n"
     ]
    }
   ],
   "source": [
    "%%timeit -n1 -r1 \n",
    "with tf.device('/GPU:0'):\n",
    "    cpu_model = get_model()\n",
    "    cpu_model.fit(X_train_scaled, y_train_categorical, epochs=10)\n"
   ]
  },
  {
   "cell_type": "code",
   "execution_count": null,
   "id": "5607161d",
   "metadata": {},
   "outputs": [],
   "source": []
  }
 ],
 "metadata": {
  "kernelspec": {
   "display_name": "Python 3 (ipykernel)",
   "language": "python",
   "name": "python3"
  },
  "language_info": {
   "codemirror_mode": {
    "name": "ipython",
    "version": 3
   },
   "file_extension": ".py",
   "mimetype": "text/x-python",
   "name": "python",
   "nbconvert_exporter": "python",
   "pygments_lexer": "ipython3",
   "version": "3.8.8"
  }
 },
 "nbformat": 4,
 "nbformat_minor": 5
}
