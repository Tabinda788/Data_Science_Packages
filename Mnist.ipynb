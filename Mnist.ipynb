{
 "cells": [
  {
   "cell_type": "code",
   "execution_count": 1,
   "id": "d663c627",
   "metadata": {},
   "outputs": [],
   "source": [
    "import numpy as np\n",
    "import matplotlib.pyplot as plt\n",
    "\n",
    "def load_data(path):\n",
    "    def one_hot(y):\n",
    "        table = np.zeros((y.shape[0], 10))\n",
    "        for i in range(y.shape[0]):\n",
    "            table[i][int(y[i][0])] = 1 \n",
    "        return table\n",
    "\n",
    "    def normalize(x): \n",
    "        x = x / 255\n",
    "        return x \n",
    "\n",
    "    data = np.loadtxt('{}'.format(path), delimiter = ',')\n",
    "    return normalize(data[:,1:]),one_hot(data[:,:1])\n",
    "\n",
    "x_train, y_train = load_data('mnist_train.csv')\n",
    "x_test, y_test = load_data('mnist_test.csv')"
   ]
  },
  {
   "cell_type": "code",
   "execution_count": 2,
   "id": "e428044d",
   "metadata": {},
   "outputs": [
    {
     "name": "stdout",
     "output_type": "stream",
     "text": [
      "The shape of training images: (60000, 784) and training labels: (60000, 10)\n",
      "The shape of test images: (10000, 784) and test labels: (10000, 10)\n"
     ]
    }
   ],
   "source": [
    "print(\n",
    "    \"The shape of training images: {} and training labels: {}\".format(\n",
    "        x_train.shape, y_train.shape\n",
    "    )\n",
    ")\n",
    "print(\n",
    "    \"The shape of test images: {} and test labels: {}\".format(\n",
    "        x_test.shape, y_test.shape\n",
    "    )\n",
    ")"
   ]
  },
  {
   "cell_type": "code",
   "execution_count": 3,
   "id": "eaa3663d",
   "metadata": {},
   "outputs": [
    {
     "data": {
      "image/png": "[encoded data removed]",
      "text/plain": [
       "<Figure size 432x288 with 1 Axes>"
      ]
     },
     "metadata": {
      "needs_background": "light"
     },
     "output_type": "display_data"
    }
   ],
   "source": [
    "import matplotlib.pyplot as plt\n",
    "\n",
    "# Take the 60,000th image (indexed at 59,999) from the training set,\n",
    "# reshape from (784, ) to (28, 28) to have a valid shape for displaying purposes.\n",
    "mnist_image = x_train[59999, :].reshape(28, 28)\n",
    "# Set the color mapping to grayscale to have a black background.\n",
    "plt.imshow(mnist_image, cmap=\"gray\")\n",
    "# Display the image.\n",
    "plt.show()"
   ]
  },
  {
   "cell_type": "code",
   "execution_count": 4,
   "id": "75573ba1",
   "metadata": {},
   "outputs": [
    {
     "data": {
      "image/png": "[encoded data removed]",
      "text/plain": [
       "<Figure size 432x288 with 5 Axes>"
      ]
     },
     "metadata": {
      "needs_background": "light"
     },
     "output_type": "display_data"
    }
   ],
   "source": [
    "# Display 5 random images from the training set.\n",
    "num_examples = 5\n",
    "seed = 147197952744\n",
    "rng = np.random.default_rng(seed)\n",
    "\n",
    "fig, axes = plt.subplots(1, num_examples)\n",
    "for sample, ax in zip(rng.choice(x_train, size=num_examples, replace=False), axes):\n",
    "    ax.imshow(sample.reshape(28, 28), cmap=\"gray\")"
   ]
  },
  {
   "cell_type": "code",
   "execution_count": 5,
   "id": "a6516f26",
   "metadata": {},
   "outputs": [
    {
     "data": {
      "text/plain": [
       "array([0., 0., 0., 0., 0., 0., 0., 0., 1., 0.])"
      ]
     },
     "execution_count": 5,
     "metadata": {},
     "output_type": "execute_result"
    }
   ],
   "source": [
    "# Display the label of the 60,000th image (indexed at 59,999) from the training set.\n",
    "y_train[59999]"
   ]
  },
  {
   "cell_type": "code",
   "execution_count": 6,
   "id": "9b551988",
   "metadata": {},
   "outputs": [],
   "source": [
    "training_images = x_train\n",
    "test_images = x_test"
   ]
  },
  {
   "cell_type": "code",
   "execution_count": 7,
   "id": "219a73b5",
   "metadata": {},
   "outputs": [
    {
     "name": "stdout",
     "output_type": "stream",
     "text": [
      "The data type of training images: float64\n",
      "The data type of test images: float64\n"
     ]
    }
   ],
   "source": [
    "print(\"The data type of training images: {}\".format(training_images.dtype))\n",
    "print(\"The data type of test images: {}\".format(test_images.dtype))"
   ]
  },
  {
   "cell_type": "code",
   "execution_count": 8,
   "id": "78085d9c",
   "metadata": {},
   "outputs": [
    {
     "name": "stdout",
     "output_type": "stream",
     "text": [
      "The data type of training labels: float64\n",
      "The data type of test labels: float64\n"
     ]
    }
   ],
   "source": [
    "print(\"The data type of training labels: {}\".format(y_train.dtype))\n",
    "print(\"The data type of test labels: {}\".format(y_test.dtype))"
   ]
  },
  {
   "cell_type": "code",
   "execution_count": 9,
   "id": "bf6defa1",
   "metadata": {},
   "outputs": [],
   "source": [
    "training_labels=y_train\n",
    "test_labels = y_test"
   ]
  },
  {
   "cell_type": "code",
   "execution_count": 10,
   "id": "2581209e",
   "metadata": {},
   "outputs": [
    {
     "name": "stdout",
     "output_type": "stream",
     "text": [
      "[0. 0. 0. 0. 0. 1. 0. 0. 0. 0.]\n",
      "[1. 0. 0. 0. 0. 0. 0. 0. 0. 0.]\n",
      "[0. 0. 0. 0. 1. 0. 0. 0. 0. 0.]\n"
     ]
    }
   ],
   "source": [
    "print(training_labels[0])\n",
    "print(training_labels[1])\n",
    "print(training_labels[2])"
   ]
  },
  {
   "cell_type": "code",
   "execution_count": 11,
   "id": "e2e38283",
   "metadata": {},
   "outputs": [],
   "source": [
    "seed = 884736743\n",
    "rng = np.random.default_rng(seed)"
   ]
  },
  {
   "cell_type": "code",
   "execution_count": 12,
   "id": "9b6ecd22",
   "metadata": {},
   "outputs": [],
   "source": [
    "# Define ReLU that returns the input if it's positive and 0 otherwise.\n",
    "def relu(x):\n",
    "    return (x >= 0) * x\n",
    "\n",
    "\n",
    "# Set up a derivative of the ReLU function that returns 1 for a positive input\n",
    "# and 0 otherwise.\n",
    "def relu2deriv(output):\n",
    "    return output >= 0"
   ]
  },
  {
   "cell_type": "code",
   "execution_count": 13,
   "id": "d1164586",
   "metadata": {},
   "outputs": [],
   "source": [
    "learning_rate = 0.005\n",
    "epochs = 20\n",
    "hidden_size = 100\n",
    "pixels_per_image = 784\n",
    "num_labels = 10"
   ]
  },
  {
   "cell_type": "code",
   "execution_count": 14,
   "id": "86203cfc",
   "metadata": {},
   "outputs": [],
   "source": [
    "weights_1 = 0.2 * rng.random((pixels_per_image, hidden_size)) - 0.1\n",
    "weights_2 = 0.2 * rng.random((hidden_size, num_labels)) - 0.1"
   ]
  },
  {
   "cell_type": "code",
   "execution_count": 15,
   "id": "308e489c",
   "metadata": {},
   "outputs": [
    {
     "name": "stdout",
     "output_type": "stream",
     "text": [
      "\n",
      "Epoch: 0 Training set error:0.496 Training set accuracy:0.7414833333333334 Test set error:0.371 Test set accuracy:0.8329\n",
      "\n",
      "Epoch: 1 Training set error:0.449 Training set accuracy:0.7869333333333334 Test set error:0.347 Test set accuracy:0.8451\n",
      "\n",
      "Epoch: 2 Training set error:0.437 Training set accuracy:0.80005 Test set error:0.332 Test set accuracy:0.8583\n",
      "\n",
      "Epoch: 3 Training set error:0.439 Training set accuracy:0.80005 Test set error:0.348 Test set accuracy:0.851\n",
      "\n",
      "Epoch: 4 Training set error:0.445 Training set accuracy:0.7944666666666667 Test set error:0.334 Test set accuracy:0.8443\n",
      "\n",
      "Epoch: 5 Training set error:0.451 Training set accuracy:0.7925333333333333 Test set error:0.345 Test set accuracy:0.841\n",
      "\n",
      "Epoch: 6 Training set error:0.457 Training set accuracy:0.78775 Test set error:0.359 Test set accuracy:0.8367\n",
      "\n",
      "Epoch: 7 Training set error:0.469 Training set accuracy:0.7831 Test set error:0.364 Test set accuracy:0.8386\n",
      "\n",
      "Epoch: 8 Training set error:0.475 Training set accuracy:0.7778 Test set error:0.379 Test set accuracy:0.8446\n",
      "\n",
      "Epoch: 9 Training set error:0.488 Training set accuracy:0.7665333333333333 Test set error:0.387 Test set accuracy:0.8209\n",
      "\n",
      "Epoch: 10 Training set error:0.494 Training set accuracy:0.7608333333333334 Test set error:0.397 Test set accuracy:0.8359\n",
      "\n",
      "Epoch: 11 Training set error:0.498 Training set accuracy:0.75645 Test set error:0.371 Test set accuracy:0.8423\n",
      "\n",
      "Epoch: 12 Training set error:0.498 Training set accuracy:0.7571833333333333 Test set error:0.367 Test set accuracy:0.8375\n",
      "\n",
      "Epoch: 13 Training set error:0.504 Training set accuracy:0.7498 Test set error:0.372 Test set accuracy:0.8334\n",
      "\n",
      "Epoch: 14 Training set error:0.508 Training set accuracy:0.7482166666666666 Test set error:0.405 Test set accuracy:0.8193\n",
      "\n",
      "Epoch: 15 Training set error:0.512 Training set accuracy:0.7495666666666667 Test set error:0.386 Test set accuracy:0.8287\n",
      "\n",
      "Epoch: 16 Training set error:0.514 Training set accuracy:0.7464666666666666 Test set error:0.395 Test set accuracy:0.8212\n",
      "\n",
      "Epoch: 17 Training set error:0.515 Training set accuracy:0.7425666666666667 Test set error:0.364 Test set accuracy:0.8291\n",
      "\n",
      "Epoch: 18 Training set error:0.512 Training set accuracy:0.7424166666666666 Test set error:0.398 Test set accuracy:0.8386\n",
      "\n",
      "Epoch: 19 Training set error:0.519 Training set accuracy:0.7372333333333333 Test set error:0.386 Test set accuracy:0.835\n"
     ]
    }
   ],
   "source": [
    "# To store training and test set losses and accurate predictions\n",
    "# for visualization.\n",
    "store_training_loss = []\n",
    "store_training_accurate_pred = []\n",
    "store_test_loss = []\n",
    "store_test_accurate_pred = []\n",
    "\n",
    "# This is a training loop.\n",
    "# Run the learning experiment for a defined number of epochs (iterations).\n",
    "for j in range(epochs):\n",
    "\n",
    "    #################\n",
    "    # Training step #\n",
    "    #################\n",
    "\n",
    "    # Set the initial loss/error and the number of accurate predictions to zero.\n",
    "    training_loss = 0.0\n",
    "    training_accurate_predictions = 0\n",
    "\n",
    "    # For all images in the training set, perform a forward pass\n",
    "    # and backpropagation and adjust the weights accordingly.\n",
    "    for i in range(len(training_images)):\n",
    "        # Forward propagation/forward pass:\n",
    "        # 1. The input layer:\n",
    "        #    Initialize the training image data as inputs.\n",
    "        layer_0 = training_images[i]\n",
    "        # 2. The hidden layer:\n",
    "        #    Take in the training image data into the middle layer by\n",
    "        #    matrix-multiplying it by randomly initialized weights.\n",
    "        layer_1 = np.dot(layer_0, weights_1)\n",
    "        # 3. Pass the hidden layer's output through the ReLU activation function.\n",
    "        layer_1 = relu(layer_1)\n",
    "        # 4. Define the dropout function for regularization.\n",
    "        dropout_mask = rng.integers(low=0, high=2, size=layer_1.shape)\n",
    "        # 5. Apply dropout to the hidden layer's output.\n",
    "        layer_1 *= dropout_mask * 2\n",
    "        # 6. The output layer:\n",
    "        #    Ingest the output of the middle layer into the the final layer\n",
    "        #    by matrix-multiplying it by randomly initialized weights.\n",
    "        #    Produce a 10-dimension vector with 10 scores.\n",
    "        layer_2 = np.dot(layer_1, weights_2)\n",
    "\n",
    "        # Backpropagation/backward pass:\n",
    "        # 1. Measure the training error (loss function) between the actual\n",
    "        #    image labels (the truth) and the prediction by the model.\n",
    "        training_loss += np.sum((training_labels[i] - layer_2) ** 2)\n",
    "        # 2. Increment the accurate prediction count.\n",
    "        training_accurate_predictions += int(\n",
    "            np.argmax(layer_2) == np.argmax(training_labels[i])\n",
    "        )\n",
    "        # 3. Differentiate the loss function/error.\n",
    "        layer_2_delta = training_labels[i] - layer_2\n",
    "        # 4. Propagate the gradients of the loss function back through the hidden layer.\n",
    "        layer_1_delta = np.dot(weights_2, layer_2_delta) * relu2deriv(layer_1)\n",
    "        # 5. Apply the dropout to the gradients.\n",
    "        layer_1_delta *= dropout_mask\n",
    "        # 6. Update the weights for the middle and input layers\n",
    "        #    by multiplying them by the learning rate and the gradients.\n",
    "        weights_1 += learning_rate * np.outer(layer_0, layer_1_delta)\n",
    "        weights_2 += learning_rate * np.outer(layer_1, layer_2_delta)\n",
    "\n",
    "    # Store training set losses and accurate predictions.\n",
    "    store_training_loss.append(training_loss)\n",
    "    store_training_accurate_pred.append(training_accurate_predictions)\n",
    "\n",
    "    ###################\n",
    "    # Evaluation step #\n",
    "    ###################\n",
    "\n",
    "    # Evaluate model performance on the test set at each epoch.\n",
    "\n",
    "    # Unlike the training step, the weights are not modified for each image\n",
    "    # (or batch). Therefore the model can be applied to the test images in a\n",
    "    # vectorized manner, eliminating the need to loop over each image\n",
    "    # individually:\n",
    "\n",
    "    results = relu(test_images @ weights_1) @ weights_2\n",
    "\n",
    "    # Measure the error between the actual label (truth) and prediction values.\n",
    "    test_loss = np.sum((test_labels - results) ** 2)\n",
    "\n",
    "    # Measure prediction accuracy on test set\n",
    "    test_accurate_predictions = np.sum(\n",
    "        np.argmax(results, axis=1) == np.argmax(test_labels, axis=1)\n",
    "    )\n",
    "\n",
    "    # Store test set losses and accurate predictions.\n",
    "    store_test_loss.append(test_loss)\n",
    "    store_test_accurate_pred.append(test_accurate_predictions)\n",
    "\n",
    "    # Summarize error and accuracy metrics at each epoch\n",
    "    print(\n",
    "        \"\\n\"\n",
    "        + \"Epoch: \"\n",
    "        + str(j)\n",
    "        + \" Training set error:\"\n",
    "        + str(training_loss / float(len(training_images)))[0:5]\n",
    "        + \" Training set accuracy:\"\n",
    "        + str(training_accurate_predictions / float(len(training_images)))\n",
    "        + \" Test set error:\"\n",
    "        + str(test_loss / float(len(test_images)))[0:5]\n",
    "        + \" Test set accuracy:\"\n",
    "        + str(test_accurate_predictions / float(len(test_images)))\n",
    "    )"
   ]
  },
  {
   "cell_type": "code",
   "execution_count": 16,
   "id": "a348cbe3",
   "metadata": {},
   "outputs": [
    {
     "data": {
      "image/png": "[encoded data removed]",
      "text/plain": [
       "<Figure size 1080x360 with 2 Axes>"
      ]
     },
     "metadata": {
      "needs_background": "light"
     },
     "output_type": "display_data"
    }
   ],
   "source": [
    "# The training set metrics.\n",
    "y_training_error = [\n",
    "    store_training_loss[i] / float(len(training_images))\n",
    "    for i in range(len(store_training_loss))\n",
    "]\n",
    "x_training_error = range(1, len(store_training_loss) + 1)\n",
    "y_training_accuracy = [\n",
    "    store_training_accurate_pred[i] / float(len(training_images))\n",
    "    for i in range(len(store_training_accurate_pred))\n",
    "]\n",
    "x_training_accuracy = range(1, len(store_training_accurate_pred) + 1)\n",
    "\n",
    "# The test set metrics.\n",
    "y_test_error = [\n",
    "    store_test_loss[i] / float(len(test_images)) for i in range(len(store_test_loss))\n",
    "]\n",
    "x_test_error = range(1, len(store_test_loss) + 1)\n",
    "y_test_accuracy = [\n",
    "    store_training_accurate_pred[i] / float(len(training_images))\n",
    "    for i in range(len(store_training_accurate_pred))\n",
    "]\n",
    "x_test_accuracy = range(1, len(store_test_accurate_pred) + 1)\n",
    "\n",
    "# Display the plots.\n",
    "fig, axes = plt.subplots(nrows=1, ncols=2, figsize=(15, 5))\n",
    "axes[0].set_title(\"Training set error, accuracy\")\n",
    "axes[0].plot(x_training_accuracy, y_training_accuracy, label=\"Training set accuracy\")\n",
    "axes[0].plot(x_training_error, y_training_error, label=\"Training set error\")\n",
    "axes[0].set_xlabel(\"Epochs\")\n",
    "axes[1].set_title(\"Test set error, accuracy\")\n",
    "axes[1].plot(x_test_accuracy, y_test_accuracy, label=\"Test set accuracy\")\n",
    "axes[1].plot(x_test_error, y_test_error, label=\"Test set error\")\n",
    "axes[1].set_xlabel(\"Epochs\")\n",
    "plt.show()"
   ]
  },
  {
   "cell_type": "code",
   "execution_count": 19,
   "id": "140769d9",
   "metadata": {},
   "outputs": [
    {
     "name": "stdout",
     "output_type": "stream",
     "text": [
      "Accuracy: 91.01 %\n"
     ]
    },
    {
     "data": {
      "image/png": "[encoded data removed]",
      "text/plain": [
       "<Figure size 750x500 with 1 Axes>"
      ]
     },
     "metadata": {
      "needs_background": "light"
     },
     "output_type": "display_data"
    }
   ],
   "source": [
    "class NeuralNetwork:\n",
    "    def __init__(self, X, y, batch = 64, lr = 1e-3,  epochs = 50):\n",
    "        self.input = X \n",
    "        self.target = y\n",
    "        self.batch = batch\n",
    "        self.epochs = epochs\n",
    "        self.lr = lr\n",
    "        \n",
    "        self.x = self.input[:self.batch] # batch input \n",
    "        self.y = self.target[:self.batch] # batch target value\n",
    "        self.loss = []\n",
    "        self.acc = []\n",
    "        \n",
    "        self.init_weights()\n",
    "      \n",
    "    def init_weights(self):\n",
    "        self.W1 = np.random.randn(self.input.shape[1],256)\n",
    "        self.W2 = np.random.randn(self.W1.shape[1],128)\n",
    "        self.W3 = np.random.randn(self.W2.shape[1],self.y.shape[1])\n",
    "\n",
    "        self.b1 = np.random.randn(self.W1.shape[1],)\n",
    "        self.b2 = np.random.randn(self.W2.shape[1],)\n",
    "        self.b3 = np.random.randn(self.W3.shape[1],)\n",
    "\n",
    "    def ReLU(self, x):\n",
    "        return np.maximum(0,x)\n",
    "\n",
    "    def dReLU(self,x):\n",
    "        return 1 * (x > 0) \n",
    "    \n",
    "    def softmax(self, z):\n",
    "        z = z - np.max(z, axis = 1).reshape(z.shape[0],1)\n",
    "        return np.exp(z) / np.sum(np.exp(z), axis = 1).reshape(z.shape[0],1)\n",
    "    \n",
    "    def shuffle(self):\n",
    "        idx = [i for i in range(self.input.shape[0])]\n",
    "        np.random.shuffle(idx)\n",
    "        self.input = self.input[idx]\n",
    "        self.target = self.target[idx]\n",
    "        \n",
    "    def feedforward(self):\n",
    "        assert self.x.shape[1] == self.W1.shape[0]\n",
    "        self.z1 = self.x.dot(self.W1) + self.b1\n",
    "        self.a1 = self.ReLU(self.z1)\n",
    "\n",
    "        assert self.a1.shape[1] == self.W2.shape[0]\n",
    "        self.z2 = self.a1.dot(self.W2) + self.b2\n",
    "        self.a2 = self.ReLU(self.z2)\n",
    "\n",
    "        assert self.a2.shape[1] == self.W3.shape[0]\n",
    "        self.z3 = self.a2.dot(self.W3) + self.b3\n",
    "        self.a3 = self.softmax(self.z3)\n",
    "        self.error = self.a3 - self.y\n",
    "\n",
    "        \n",
    "    def backprop(self):\n",
    "        dcost = (1/self.batch)*self.error\n",
    "        \n",
    "        DW3 = np.dot(dcost.T,self.a2).T\n",
    "        DW2 = np.dot((np.dot((dcost),self.W3.T) * self.dReLU(self.z2)).T,self.a1).T\n",
    "        DW1 = np.dot((np.dot(np.dot((dcost),self.W3.T)*self.dReLU(self.z2),self.W2.T)*self.dReLU(self.z1)).T,self.x).T\n",
    "\n",
    "        db3 = np.sum(dcost,axis = 0)\n",
    "        db2 = np.sum(np.dot((dcost),self.W3.T) * self.dReLU(self.z2),axis = 0)\n",
    "        db1 = np.sum((np.dot(np.dot((dcost),self.W3.T)*self.dReLU(self.z2),self.W2.T)*self.dReLU(self.z1)),axis = 0)\n",
    "        \n",
    "        assert DW3.shape == self.W3.shape\n",
    "        assert DW2.shape == self.W2.shape\n",
    "        assert DW1.shape == self.W1.shape\n",
    "        \n",
    "        assert db3.shape == self.b3.shape\n",
    "        assert db2.shape == self.b2.shape\n",
    "        assert db1.shape == self.b1.shape \n",
    "        \n",
    "        self.W3 = self.W3 - self.lr * DW3\n",
    "        self.W2 = self.W2 - self.lr * DW2\n",
    "        self.W1 = self.W1 - self.lr * DW1\n",
    "        \n",
    "        self.b3 = self.b3 - self.lr * db3\n",
    "        self.b2 = self.b2 - self.lr * db2\n",
    "        self.b1 = self.b1 - self.lr * db1\n",
    "\n",
    "    def train(self):\n",
    "        for epoch in range(self.epochs):\n",
    "            l = 0\n",
    "            acc = 0\n",
    "            self.shuffle()\n",
    "            \n",
    "            for batch in range(self.input.shape[0]//self.batch-1):\n",
    "                start = batch*self.batch\n",
    "                end = (batch+1)*self.batch\n",
    "                self.x = self.input[start:end]\n",
    "                self.y = self.target[start:end]\n",
    "                self.feedforward()\n",
    "                self.backprop()\n",
    "                l+=np.mean(self.error**2)\n",
    "                acc+= np.count_nonzero(np.argmax(self.a3,axis=1) == np.argmax(self.y,axis=1)) / self.batch\n",
    "                \n",
    "            self.loss.append(l/(self.input.shape[0]//self.batch))\n",
    "            self.acc.append(acc*100/(self.input.shape[0]//self.batch))\n",
    "            \n",
    "    def plot(self):\n",
    "        plt.figure(dpi = 125)\n",
    "        plt.plot(self.loss)\n",
    "        plt.xlabel(\"Epochs\")\n",
    "        plt.ylabel(\"Loss\")\n",
    "    \n",
    "    def acc_plot(self):\n",
    "        plt.figure(dpi = 125)\n",
    "        plt.plot(self.acc)\n",
    "        plt.xlabel(\"Epochs\")\n",
    "        plt.ylabel(\"Accuracy\")\n",
    "        \n",
    "    def test(self,xtest,ytest):\n",
    "        self.x = xtest\n",
    "        self.y = ytest\n",
    "        self.feedforward()\n",
    "        acc = np.count_nonzero(np.argmax(self.a3,axis=1) == np.argmax(self.y,axis=1)) / self.x.shape[0]\n",
    "        print(\"Accuracy:\", 100 * acc, \"%\")\n",
    "    \n",
    "        \n",
    "        \n",
    "NN = NeuralNetwork(X_train, y_train) \n",
    "NN.train()\n",
    "NN.plot()\n",
    "NN.test(X_test,y_test)"
   ]
  },
  {
   "cell_type": "code",
   "execution_count": null,
   "id": "7cf050c4",
   "metadata": {},
   "outputs": [],
   "source": []
  }
 ],
 "metadata": {
  "kernelspec": {
   "display_name": "Python 3 (ipykernel)",
   "language": "python",
   "name": "python3"
  },
  "language_info": {
   "codemirror_mode": {
    "name": "ipython",
    "version": 3
   },
   "file_extension": ".py",
   "mimetype": "text/x-python",
   "name": "python",
   "nbconvert_exporter": "python",
   "pygments_lexer": "ipython3",
   "version": "3.8.8"
  }
 },
 "nbformat": 4,
 "nbformat_minor": 5
}
